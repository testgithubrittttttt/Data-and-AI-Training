{
 "cells": [
  {
   "cell_type": "code",
   "execution_count": 3,
   "id": "ba64aaaf-de6b-4193-8730-d8003b63443e",
   "metadata": {},
   "outputs": [],
   "source": [
    "import pandas as pd\n",
    "from sklearn.model_selection import train_test_split\n",
    "\n",
    "# Custom dataset: student marks and pass/fail result\n",
    "data = {\n",
    "    \"Maths\":    [30, 45, 50, 65, 70, 85, 90, 95],\n",
    "    \"Science\":  [25, 40, 55, 60, 72, 80, 88, 92],\n",
    "    \"Physics\":  [75,89,67,90,93,45,56,12],\n",
    "    \"Result\":   [0, 0, 0, 1, 1, 1, 1, 1]   # 0 = Fail, 1 = Pass\n",
    "}\n",
    "\n",
    "df = pd.DataFrame(data)\n",
    "\n",
    "# Features (X) and target (y)\n",
    "X = df[[\"Maths\", \"Science\", \"Physics\"]].astype(float)   # convert to float\n",
    "y = df[\"Result\"]\n",
    "\n",
    "# Train-test split\n",
    "X_train, X_test, y_train, y_test = train_test_split(\n",
    "    X, y, test_size=0.3, random_state=42\n",
    ")\n"
   ]
  },
  {
   "cell_type": "code",
   "execution_count": 4,
   "id": "43161032-4941-4838-9816-896e38e2a275",
   "metadata": {},
   "outputs": [
    {
     "name": "stderr",
     "output_type": "stream",
     "text": [
      "2025/09/25 15:53:25 WARNING mlflow.models.model: `artifact_path` is deprecated. Please use `name` instead.\n",
      "C:\\Users\\user1\\AppData\\Local\\Programs\\Python\\Python311\\Lib\\site-packages\\mlflow\\types\\utils.py:452: UserWarning: Hint: Inferred schema contains integer column(s). Integer columns in Python cannot represent missing values. If your input data contains missing values at inference time, it will be encoded as floats and will cause a schema enforcement error. The best way to avoid this problem is to infer the model schema based on a realistic data sample (training dataset) that includes missing values. Alternatively, you can declare integer columns as doubles (float64) whenever these columns may have missing values. See `Handling Integers With Missing Values <https://www.mlflow.org/docs/latest/models.html#handling-integers-with-missing-values>`_ for more details.\n",
      "  warnings.warn(\n"
     ]
    },
    {
     "name": "stdout",
     "output_type": "stream",
     "text": [
      "🏃 View run lr_students at: http://127.0.0.1:5000/#/experiments/163812121181969558/runs/49ef6e0d87de4b2eb3618584d7ec5dfb\n",
      "🧪 View experiment at: http://127.0.0.1:5000/#/experiments/163812121181969558\n",
      "✅ Done. Open MLflow UI → http://127.0.0.1:5000\n"
     ]
    }
   ],
   "source": [
    "import mlflow\n",
    "import mlflow.sklearn\n",
    "from sklearn.linear_model import LogisticRegression\n",
    "\n",
    "# Connect MLflow\n",
    "mlflow.set_tracking_uri(\"http://127.0.0.1:5000\")\n",
    "mlflow.set_experiment(\"students_pass_fail_demo\") \n",
    "\n",
    "with mlflow.start_run(run_name=\"lr_students\"):\n",
    "    # Train model\n",
    "    model = LogisticRegression()\n",
    "    model.fit(X_train, y_train)\n",
    "    acc = model.score(X_test, y_test)\n",
    "\n",
    "    # Log info to MLflow\n",
    "    mlflow.log_param(\"model_type\", \"LogisticRegression\")\n",
    "    mlflow.log_metric(\"accuracy\", acc)\n",
    "    mlflow.sklearn.log_model(\n",
    "        model,\n",
    "        artifact_path=\"student_model\",\n",
    "        input_example=X_train[:2]\n",
    "    )\n",
    "\n",
    "print(\"✅ Done. Open MLflow UI → http://127.0.0.1:5000\")\n"
   ]
  },
  {
   "cell_type": "code",
   "execution_count": null,
   "id": "6c623d7d-6a05-4fcd-87c9-70ef650c85e0",
   "metadata": {},
   "outputs": [],
   "source": []
  }
 ],
 "metadata": {
  "kernelspec": {
   "display_name": "Python 3 (ipykernel)",
   "language": "python",
   "name": "python3"
  },
  "language_info": {
   "codemirror_mode": {
    "name": "ipython",
    "version": 3
   },
   "file_extension": ".py",
   "mimetype": "text/x-python",
   "name": "python",
   "nbconvert_exporter": "python",
   "pygments_lexer": "ipython3",
   "version": "3.11.0"
  }
 },
 "nbformat": 4,
 "nbformat_minor": 5
}
